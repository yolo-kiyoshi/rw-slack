{
 "cells": [
  {
   "cell_type": "code",
   "execution_count": 6,
   "id": "f523c5d1-edb0-46b0-8bd3-ee25220d22d6",
   "metadata": {},
   "outputs": [
    {
     "name": "stdout",
     "output_type": "stream",
     "text": [
      "The autoreload extension is already loaded. To reload it, use:\n",
      "  %reload_ext autoreload\n"
     ]
    }
   ],
   "source": [
    "%load_ext autoreload\n",
    "%autoreload 2\n",
    "# 上位のディレクトリからソースをimportするため\n",
    "import sys\n",
    "sys.path.append('..')"
   ]
  },
  {
   "cell_type": "code",
   "execution_count": 7,
   "id": "f0ecfaa4-d78d-4d92-a8ba-dccd93c1b8bc",
   "metadata": {},
   "outputs": [],
   "source": [
    "from src.slack import SlackExtractor\n",
    "import json"
   ]
  },
  {
   "cell_type": "code",
   "execution_count": 8,
   "id": "0edb032f-ab92-497b-a9ef-564f12158eb4",
   "metadata": {},
   "outputs": [],
   "source": [
    "with open(\"../bots.json\") as f:\n",
    "    bots = json.load(f)"
   ]
  },
  {
   "cell_type": "code",
   "execution_count": 9,
   "id": "7e4cf3e9-d092-4429-8055-802430f70c48",
   "metadata": {},
   "outputs": [
    {
     "data": {
      "text/plain": [
       "{'token': 'SLACK_TOKWN',\n",
       " 'channels': [{'id': 'CHANNEL_ID', 'name': 'CHANNEL_NAME'}]}"
      ]
     },
     "execution_count": 9,
     "metadata": {},
     "output_type": "execute_result"
    }
   ],
   "source": [
    "bots"
   ]
  },
  {
   "cell_type": "code",
   "execution_count": 10,
   "id": "84d2cf0f-e7f9-4baa-bcde-3afdbb101194",
   "metadata": {},
   "outputs": [
    {
     "data": {
      "text/plain": [
       "<src.slack.SlackExtractor at 0xffffabf0acf0>"
      ]
     },
     "execution_count": 10,
     "metadata": {},
     "output_type": "execute_result"
    }
   ],
   "source": [
    "channles = bots[\"channels\"]\n",
    "\n",
    "SlackExtractor(SLACK_TOKEN=bots[\"token\"], CHANNEL_ID=channles[0][\"id\"])"
   ]
  },
  {
   "cell_type": "code",
   "execution_count": null,
   "id": "ea6a33da-52b4-4bf0-8ff5-aaba092e5d8e",
   "metadata": {},
   "outputs": [],
   "source": []
  }
 ],
 "metadata": {
  "kernelspec": {
   "display_name": "Python 3 (ipykernel)",
   "language": "python",
   "name": "python3"
  },
  "language_info": {
   "codemirror_mode": {
    "name": "ipython",
    "version": 3
   },
   "file_extension": ".py",
   "mimetype": "text/x-python",
   "name": "python",
   "nbconvert_exporter": "python",
   "pygments_lexer": "ipython3",
   "version": "3.13.0"
  }
 },
 "nbformat": 4,
 "nbformat_minor": 5
}
